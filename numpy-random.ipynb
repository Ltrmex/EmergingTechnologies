{
 "cells": [
  {
   "cell_type": "markdown",
   "metadata": {},
   "source": [
    "### Numpy Random Notebook\n",
    "- A jupyter notebook explaining the concepts behind and the use of the numpy package, including plots of the various distributions.\n",
    "- Numpy.random package is a sub package of the numpy package in Python and is responsible for generating random numbers in lot's of different ways.\n",
    "\n",
    "#### What is NumPy?\n",
    "- NumPy is the fundamental package for scientific computing in Python. It is a Python library that provides a multidimensional array object, various derived objects (such as masked arrays and matrices), and an assortment of routines for fast operations on arrays, including mathematical, logical, shape manipulation, sorting, selecting, I/O, discrete Fourier transforms, basic linear algebra, basic statistical operations, random simulation and much more.\n",
    "    \n",
    "#### Numpy Random package can be categorised into:\n",
    "- __Simple random data__, which includes functions for everyday use, such as __*rand(d0, d1, …, dn)*__ to generate random values in a given shape.\n",
    "- __Permutations__, which includes function such as __*shuffle(x)*__ to modify a sequence in-place by shuffling its contents.\n",
    "- __Distributions__, which are realated to different probability distributions, example of a function would be __*exponential([scale, size])*__ which would draw samples from an exponential distribution.\n",
    "- __Random generator__ which includes function such as __*seed([seed])*__ to seed the generator.\n",
    "***"
   ]
  },
  {
   "cell_type": "code",
   "execution_count": 2,
   "metadata": {},
   "outputs": [],
   "source": [
    "# Import numpy package as np to allow access to numpy.random package\n",
    "import numpy as np"
   ]
  },
  {
   "cell_type": "markdown",
   "metadata": {},
   "source": [
    "#### Functions to be investigated:\n",
    "- Simple random data\n",
    "    - [rand(d0, d1, …, dn)](#rand)\n",
    "    - [randint(low, high=None, size=None, dtype='l')](#randint)\n",
    "    - [random([size])](#random)\n",
    "    - [choice(a[, size, replace, p])](#choice)\n",
    "    - [ranf([size])](#ranf)\n",
    "- Permutations\n",
    "    - [shuffle(x)](#shuffle)\n",
    "- Distributions\n",
    "    - [exponential([scale, size])](#exponential)\n",
    "    - [normal([loc, scale, size])](#normal)\n",
    "    - [geometric(p[, size])](#geometric)\n",
    "    - [uniform([low, high, size])](#uniform)\n",
    "- Random generator\n",
    "    - [seed([seed])](#seed)"
   ]
  },
  {
   "cell_type": "markdown",
   "metadata": {},
   "source": [
    "***\n",
    "<a id=\"rand\"></a>\n",
    "### numpy.random.rand\n",
    "- Random values in a given shape.\n",
    "- Create an array of the given shape and populate it with random samples from a uniform distribution over [0,1].\n",
    "\n",
    "- **Parameters:** \n",
    "    - d0, d1, …, dn : int, optional\n",
    "        - The dimensions of the returned array, should all be positive. If no argument is given a single Python float is returned.\n",
    "- **Returns:** \n",
    "    - out : ndarray, shape (d0, d1, ..., dn)\n",
    "        - Random values."
   ]
  },
  {
   "cell_type": "code",
   "execution_count": 52,
   "metadata": {},
   "outputs": [
    {
     "name": "stdout",
     "output_type": "stream",
     "text": [
      "No arguments: \n"
     ]
    },
    {
     "data": {
      "text/plain": [
       "0.05832934297976866"
      ]
     },
     "execution_count": 52,
     "metadata": {},
     "output_type": "execute_result"
    }
   ],
   "source": [
    "# Without arguments function will return random single float number (from 0 to 1)\n",
    "print(\"No arguments: \")\n",
    "np.random.rand()"
   ]
  },
  {
   "cell_type": "code",
   "execution_count": 53,
   "metadata": {},
   "outputs": [
    {
     "name": "stdout",
     "output_type": "stream",
     "text": [
      "With one argument '3': \n"
     ]
    },
    {
     "data": {
      "text/plain": [
       "array([0.72441471, 0.11468285, 0.81804689])"
      ]
     },
     "execution_count": 53,
     "metadata": {},
     "output_type": "execute_result"
    }
   ],
   "source": [
    "# With one argument it will return number of random float numbers (from 0 to 1) specified\n",
    "print(\"With one argument '3': \")\n",
    "np.random.rand(3)"
   ]
  },
  {
   "cell_type": "code",
   "execution_count": 54,
   "metadata": {},
   "outputs": [
    {
     "name": "stdout",
     "output_type": "stream",
     "text": [
      "With two arguments '2,2': \n"
     ]
    },
    {
     "data": {
      "text/plain": [
       "array([[0.64472261, 0.81581367],\n",
       "       [0.6130365 , 0.91321576]])"
      ]
     },
     "execution_count": 54,
     "metadata": {},
     "output_type": "execute_result"
    }
   ],
   "source": [
    "# With two arguments it will return matrices specified of random float numbers (from 0 to 1)\n",
    "print(\"With two arguments '2,2': \")\n",
    "np.random.rand(2,2)"
   ]
  },
  {
   "cell_type": "code",
   "execution_count": 55,
   "metadata": {},
   "outputs": [
    {
     "name": "stdout",
     "output_type": "stream",
     "text": [
      "With three arguments '2,2,2': \n"
     ]
    },
    {
     "data": {
      "text/plain": [
       "array([[[0.72726816, 0.74400231],\n",
       "        [0.73455863, 0.62051414]],\n",
       "\n",
       "       [[0.958561  , 0.70507497],\n",
       "        [0.33158693, 0.37502753]]])"
      ]
     },
     "execution_count": 55,
     "metadata": {},
     "output_type": "execute_result"
    }
   ],
   "source": [
    "# With three arguments it will return matrices specified of random float numbers (from 0 to 1)\n",
    "# By continuing to add more arguments, it will simply add more dimensions to the matrices\n",
    "print(\"With three arguments '2,2,2': \")\n",
    "np.random.rand(2,2,2)"
   ]
  },
  {
   "cell_type": "markdown",
   "metadata": {},
   "source": [
    "***\n",
    "<a id=\"randint\"></a>\n",
    "### numpy.random.randint\n",
    "- Return random integers from low (inclusive) to high (exclusive).\n",
    "- Return random integers from the “discrete uniform” distribution of the specified dtype in the “half-open” interval [low, high). If high is None (the default), then results are from [0, low).\n",
    "\n",
    "- **Parameters:**\n",
    "    - low : int\n",
    "        - Lowest (signed) integer to be drawn from the distribution (unless high=None, in which case this parameter is one above the highest such integer).\n",
    "    - high : int, optional\n",
    "        - If provided, one above the largest (signed) integer to be drawn from the distribution (see above for behavior if high=None).\n",
    "    - size : int or tuple of ints, optional\n",
    "        - Output shape. If the given shape is, e.g., (m, n, k), then m * n * k samples are drawn. Default is None, in which case a single value is returned.\n",
    "    - dtype : dtype, optional\n",
    "        - Desired dtype of the result. All dtypes are determined by their name, i.e., ‘int64’, ‘int’, etc, so byteorder is not available and a specific precision may have different C types depending on the platform. The default value is ‘np.int’.\n",
    "        - New in version 1.11.0.\n",
    "\n",
    "- **Returns:**\n",
    "    - out : int or ndarray of ints\n",
    "        - size-shaped array of random integers from the appropriate distribution, or a single such random int if size not provided."
   ]
  },
  {
   "cell_type": "code",
   "execution_count": 52,
   "metadata": {},
   "outputs": [
    {
     "name": "stdout",
     "output_type": "stream",
     "text": [
      "One argument '5' generates random int from 0 to 4: \n"
     ]
    },
    {
     "data": {
      "text/plain": [
       "3"
      ]
     },
     "execution_count": 52,
     "metadata": {},
     "output_type": "execute_result"
    }
   ],
   "source": [
    "# Must take at least one argument\n",
    "# With one argument it generates random int up to 4, inclusive\n",
    "print(\"One argument '5' generates random int from 0 to 4: \")\n",
    "np.random.randint(5)"
   ]
  },
  {
   "cell_type": "code",
   "execution_count": 53,
   "metadata": {},
   "outputs": [
    {
     "name": "stdout",
     "output_type": "stream",
     "text": [
      "Arguments '5' & '10' generates random int between 5 and 9, inclusive: \n"
     ]
    },
    {
     "data": {
      "text/plain": [
       "6"
      ]
     },
     "execution_count": 53,
     "metadata": {},
     "output_type": "execute_result"
    }
   ],
   "source": [
    "# With two arguments it generates random int between 5 and 14, inclusive\n",
    "print(\"Arguments '5' & '10' generates random int between 5 and 9, inclusive: \")\n",
    "np.random.randint(5, 10)"
   ]
  },
  {
   "cell_type": "code",
   "execution_count": 54,
   "metadata": {},
   "outputs": [
    {
     "name": "stdout",
     "output_type": "stream",
     "text": [
      "Arguments '5, 10, 5' generates five random ints between 5 and 9, inclusive:: \n"
     ]
    },
    {
     "data": {
      "text/plain": [
       "array([8, 7, 5, 6, 5])"
      ]
     },
     "execution_count": 54,
     "metadata": {},
     "output_type": "execute_result"
    }
   ],
   "source": [
    "# With three arguments it generates random ints between 5 and 9, inclusive\n",
    "# where third number determines size of randomly generated ints\n",
    "print(\"Arguments '5, 10, 5' generates five random ints between 5 and 9, inclusive:: \")\n",
    "np.random.randint(5, 10, 5)"
   ]
  },
  {
   "cell_type": "code",
   "execution_count": 56,
   "metadata": {},
   "outputs": [
    {
     "name": "stdout",
     "output_type": "stream",
     "text": [
      "Arguments '5, size=(2, 4)' a 2 x 4 array of ints between 5 and 14, inclusive: \n"
     ]
    },
    {
     "data": {
      "text/plain": [
       "array([[ 8, 12, 12,  9],\n",
       "       [ 5,  7, 14, 10]])"
      ]
     },
     "execution_count": 56,
     "metadata": {},
     "output_type": "execute_result"
    }
   ],
   "source": [
    "# Generate a 2 x 4 array of ints between 5 and 14, inclusive\n",
    "print(\"Arguments '5, size=(2, 4)' a 2 x 4 array of ints between 5 and 14, inclusive: \")\n",
    "np.random.randint(5, 15, size=(2, 4))"
   ]
  },
  {
   "cell_type": "markdown",
   "metadata": {},
   "source": [
    "***\n",
    "<a id=\"random\"></a>\n",
    "### numpy.random.random"
   ]
  },
  {
   "cell_type": "code",
   "execution_count": null,
   "metadata": {},
   "outputs": [],
   "source": []
  },
  {
   "cell_type": "markdown",
   "metadata": {},
   "source": [
    "***\n",
    "<a id=\"choice\"></a>\n",
    "### numpy.random.choice"
   ]
  },
  {
   "cell_type": "code",
   "execution_count": null,
   "metadata": {},
   "outputs": [],
   "source": []
  },
  {
   "cell_type": "markdown",
   "metadata": {},
   "source": [
    "***\n",
    "<a id=\"ranf\"></a>\n",
    "### numpy.random.ranf"
   ]
  },
  {
   "cell_type": "code",
   "execution_count": null,
   "metadata": {},
   "outputs": [],
   "source": []
  },
  {
   "cell_type": "markdown",
   "metadata": {},
   "source": [
    "***\n",
    "<a id=\"shuffle\"></a>\n",
    "### numpy.random.shuffle"
   ]
  },
  {
   "cell_type": "code",
   "execution_count": null,
   "metadata": {},
   "outputs": [],
   "source": []
  },
  {
   "cell_type": "markdown",
   "metadata": {},
   "source": [
    "***\n",
    "<a id=\"exponential\"></a>\n",
    "### numpy.random.exponential"
   ]
  },
  {
   "cell_type": "code",
   "execution_count": null,
   "metadata": {},
   "outputs": [],
   "source": []
  },
  {
   "cell_type": "markdown",
   "metadata": {},
   "source": [
    "***\n",
    "<a id=\"normal\"></a>\n",
    "### numpy.random.normal"
   ]
  },
  {
   "cell_type": "code",
   "execution_count": null,
   "metadata": {},
   "outputs": [],
   "source": []
  },
  {
   "cell_type": "markdown",
   "metadata": {},
   "source": [
    "***\n",
    "<a id=\"geometric\"></a>\n",
    "### numpy.random.geometric"
   ]
  },
  {
   "cell_type": "code",
   "execution_count": null,
   "metadata": {},
   "outputs": [],
   "source": []
  },
  {
   "cell_type": "markdown",
   "metadata": {},
   "source": [
    "***\n",
    "<a id=\"uniform\"></a>\n",
    "### numpy.random.uniform"
   ]
  },
  {
   "cell_type": "code",
   "execution_count": null,
   "metadata": {},
   "outputs": [],
   "source": []
  },
  {
   "cell_type": "markdown",
   "metadata": {},
   "source": [
    "***\n",
    "<a id=\"seed\"></a>\n",
    "### numpy.random.seed"
   ]
  },
  {
   "cell_type": "code",
   "execution_count": null,
   "metadata": {},
   "outputs": [],
   "source": []
  },
  {
   "cell_type": "markdown",
   "metadata": {},
   "source": [
    "***\n",
    "###### References: \n",
    "- __[Random sampling (numpy.random)](https://docs.scipy.org/doc/numpy-1.15.1/reference/routines.random.html )__\n",
    "- __[What is NumPy?](https://docs.scipy.org/doc/numpy-1.13.0/user/whatisnumpy.html )__\n",
    "- __[numpy.random.rand](https://docs.scipy.org/doc/numpy-1.15.1/reference/generated/numpy.random.rand.html#numpy.random.rand )__\n",
    "- __[numpy.random.randint](https://docs.scipy.org/doc/numpy-1.15.1/reference/generated/numpy.random.randint.html)__\n",
    "- __[numpy.random.random](https://docs.scipy.org/doc/numpy-1.15.1/reference/generated/numpy.random.random.html#numpy.random.random)__\n",
    "- __[numpy.random.choice](https://docs.scipy.org/doc/numpy-1.15.1/reference/generated/numpy.random.choice.html#numpy.random.choice)__\n",
    "- __[numpy.random.ranf](https://docs.scipy.org/doc/numpy-1.15.1/reference/generated/numpy.random.ranf.html#numpy.random.ranf)__\n",
    "- __[numpy.random.shuffle](https://docs.scipy.org/doc/numpy-1.15.1/reference/generated/numpy.random.shuffle.html#numpy.random.shuffle)__\n",
    "- __[numpy.random.exponential](https://docs.scipy.org/doc/numpy-1.15.1/reference/generated/numpy.random.exponential.html#numpy.random.exponential)__\n",
    "- __[numpy.random.normal](https://docs.scipy.org/doc/numpy-1.15.1/reference/generated/numpy.random.normal.html#numpy.random.normal)__\n",
    "- __[numpy.random.geometric](https://docs.scipy.org/doc/numpy-1.15.1/reference/generated/numpy.random.geometric.html#numpy.random.geometric)__\n",
    "- __[numpy.random.uniform](https://docs.scipy.org/doc/numpy-1.15.1/reference/generated/numpy.random.uniform.html#numpy.random.uniform)__\n",
    "- __[numpy.random.seed](https://docs.scipy.org/doc/numpy-1.15.1/reference/generated/numpy.random.seed.html#numpy.random.seed)__"
   ]
  }
 ],
 "metadata": {
  "kernelspec": {
   "display_name": "Python 3",
   "language": "python",
   "name": "python3"
  },
  "language_info": {
   "codemirror_mode": {
    "name": "ipython",
    "version": 3
   },
   "file_extension": ".py",
   "mimetype": "text/x-python",
   "name": "python",
   "nbconvert_exporter": "python",
   "pygments_lexer": "ipython3",
   "version": "3.6.5"
  }
 },
 "nbformat": 4,
 "nbformat_minor": 2
}
