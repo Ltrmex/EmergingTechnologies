{
 "cells": [
  {
   "cell_type": "markdown",
   "metadata": {},
   "source": [
    "### Numpy Random Notebook\n",
    "    A jupyter notebook explaining the concepts behind and the use of the numpy package, including plots of the various\n",
    "    distributions.\n",
    "\n",
    "    Numpy.random package is a sub package of the numpy package in Python and is responsible for generating random \n",
    "    numbers in lot's of different ways.\n",
    "\n",
    "#### What is NumPy?\n",
    "    NumPy is the fundamental package for scientific computing in Python. It is a Python library that provides a\n",
    "    multidimensional array object, various derived objects (such as masked arrays and matrices), and an assortment of\n",
    "    routines for fast operations on arrays, including mathematical, logical, shape manipulation, sorting, selecting, I/O,\n",
    "    discrete Fourier transforms, basic linear algebra, basic statistical operations, random simulation and much more.\n",
    "    \n",
    "#### Numpy Random package can be categorised into:\n",
    "- __Simple random data__, which includes functions for everyday use, such as __*rand(d0, d1, …, dn)*__ to generate random values in a given shape.\n",
    "- __Permutations__, which includes function such as __*shuffle(x)*__ to modify a sequence in-place by shuffling its contents.\n",
    "- __Distributions__, which are realated to different probability distributions, example of a function would be __*exponential([scale, size])*__ which would draw samples from an exponential distribution.\n",
    "- __Random generator__ which includes function such as __*seed([seed])*__ to seed the generator."
   ]
  },
  {
   "cell_type": "code",
   "execution_count": 1,
   "metadata": {
    "collapsed": true
   },
   "outputs": [
    {
     "data": {
      "text/plain": [
       "3"
      ]
     },
     "execution_count": 1,
     "metadata": {},
     "output_type": "execute_result"
    }
   ],
   "source": [
    "# Import numpy package as np\n",
    "import numpy as np"
   ]
  },
  {
   "cell_type": "markdown",
   "metadata": {},
   "source": [
    "###### References: \n",
    "- __[Random sampling (numpy.random)](https://docs.scipy.org/doc/numpy-1.15.1/reference/routines.random.html )__\n",
    "- __[What is NumPy?](https://docs.scipy.org/doc/numpy-1.13.0/user/whatisnumpy.html )__\n"
   ]
  }
 ],
 "metadata": {
  "kernelspec": {
   "display_name": "Python 3",
   "language": "python",
   "name": "python3"
  },
  "language_info": {
   "codemirror_mode": {
    "name": "ipython",
    "version": 3
   },
   "file_extension": ".py",
   "mimetype": "text/x-python",
   "name": "python",
   "nbconvert_exporter": "python",
   "pygments_lexer": "ipython3",
   "version": "3.6.5"
  }
 },
 "nbformat": 4,
 "nbformat_minor": 2
}
