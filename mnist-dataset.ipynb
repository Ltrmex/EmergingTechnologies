{
 "cells": [
  {
   "cell_type": "markdown",
   "metadata": {},
   "source": [
    "## MNIST Dataset Notebook\n",
    "    A jupyter notebook explaining how to read the MNIST dataset effciently into memory in Python."
   ]
  },
  {
   "cell_type": "markdown",
   "metadata": {},
   "source": [
    "## Contents\n",
    "- [MNIST database](#id1)\n",
    "- [References](#idr)"
   ]
  },
  {
   "cell_type": "markdown",
   "metadata": {},
   "source": [
    "<a id=\"id1\"></a>\n",
    "## MNIST database\n",
    "- The **MNIST** database (**Modified National Institute of Standards and Technology database**) is a large database of **handwritten digits** that is commonly used for training various image processing systems.\n",
    "- The database is also widely used for training and testing in the field of **machine learning**.\n",
    "-  It was created by \"re-mixing\" the samples from **NIST's original datasets**.\n",
    "- The creators felt that since **NIST's** training dataset was taken from **American Census Bureau employees**, while the testing dataset was taken from **American high school students**, it was not well-suited for machine learning experiments.\n",
    "- Furthermore, the black and white images from **NIST** were normalized to fit into a 28x28 pixel bounding box and anti-aliased, which introduced **grayscale levels**.\n",
    "- The **MNIST** database **contains 60,000 training images** and **10,000 testing images**.\n",
    "- Half of the training set and half of the test set were taken from **NIST's** training dataset, while the other half of the training set and the other half of the test set were taken from **NIST's** testing dataset.\n",
    "- An **extended dataset** similar to **MNIST** called **EMNIST** has been published in 2017, which contains **240,000 training images**, and **40,000 testing images** of handwritten digits and characters.\n",
    "<img src=\"Images/Sample MNIST.png\" alt=\"Sample MNIST\" title=\"Sample MNIST\" />\n",
    "__*Sample images from MNIST test dataset.*__"
   ]
  },
  {
   "cell_type": "markdown",
   "metadata": {},
   "source": [
    "<a id=\"idr\"></a>\n",
    "###### References: \n",
    "- __[MNIST database](https://en.wikipedia.org/wiki/MNIST_database)__"
   ]
  }
 ],
 "metadata": {
  "kernelspec": {
   "display_name": "Python 3",
   "language": "python",
   "name": "python3"
  },
  "language_info": {
   "codemirror_mode": {
    "name": "ipython",
    "version": 3
   },
   "file_extension": ".py",
   "mimetype": "text/x-python",
   "name": "python",
   "nbconvert_exporter": "python",
   "pygments_lexer": "ipython3",
   "version": "3.6.5"
  }
 },
 "nbformat": 4,
 "nbformat_minor": 2
}
