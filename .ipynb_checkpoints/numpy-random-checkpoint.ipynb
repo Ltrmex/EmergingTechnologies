{
 "cells": [
  {
   "cell_type": "markdown",
   "metadata": {},
   "source": [
    "### Numpy Random Notebook\n",
    "- A jupyter notebook explaining the concepts behind and the use of the numpy package, including plots of the various distributions.\n",
    "- Numpy.random package is a sub package of the numpy package in Python and is responsible for generating random numbers in lot's of different ways.\n",
    "\n",
    "#### What is NumPy?\n",
    "- NumPy is the fundamental package for scientific computing in Python. It is a Python library that provides a multidimensional array object, various derived objects (such as masked arrays and matrices), and an assortment of routines for fast operations on arrays, including mathematical, logical, shape manipulation, sorting, selecting, I/O, discrete Fourier transforms, basic linear algebra, basic statistical operations, random simulation and much more.\n",
    "    \n",
    "#### Numpy Random package can be categorised into:\n",
    "- __Simple random data__, which includes functions for everyday use, such as __*rand(d0, d1, …, dn)*__ to generate random values in a given shape.\n",
    "- __Permutations__, which includes function such as __*shuffle(x)*__ to modify a sequence in-place by shuffling its contents.\n",
    "- __Distributions__, which are realated to different probability distributions, example of a function would be __*exponential([scale, size])*__ which would draw samples from an exponential distribution.\n",
    "- __Random generator__ which includes function such as __*seed([seed])*__ to seed the generator.\n",
    "***"
   ]
  },
  {
   "cell_type": "code",
   "execution_count": 1,
   "metadata": {},
   "outputs": [],
   "source": [
    "# Import numpy package as np to allow access to numpy.random package\n",
    "import numpy as np"
   ]
  },
  {
   "cell_type": "markdown",
   "metadata": {},
   "source": [
    "#### Functions to be investigated:\n",
    "- Simple random data\n",
    "    - rand(d0, d1, …, dn)\n",
    "    - random_integers(low[, high, size])\n",
    "    - random([size])\n",
    "    - choice(a[, size, replace, p])\n",
    "    - ranf([size])\n",
    "- Permutations\n",
    "    - shuffle(x)\n",
    "- Distributions\n",
    "    - exponential([scale, size])\n",
    "    - normal([loc, scale, size])\n",
    "    - geometric(p[, size])\n",
    "    - uniform([low, high, size])\n",
    "- Random generator\n",
    "    - seed([seed])"
   ]
  },
  {
   "cell_type": "markdown",
   "metadata": {},
   "source": [
    "***\n",
    "### numpy.random.rand\n",
    "- Random values in a given shape.\n",
    "- Create an array of the given shape and populate it with random samples from a uniform distribution over [0,1].\n",
    "- **Parameters:** \n",
    "    - d0, d1, …, dn : int, optional\n",
    "        - The dimensions of the returned array, should all be positive. If no argument is given a single Python float is returned.\n",
    "- **Returns:** \n",
    "    - out : ndarray, shape (d0, d1, ..., dn)\n",
    "        - Random values."
   ]
  },
  {
   "cell_type": "code",
   "execution_count": null,
   "metadata": {},
   "outputs": [],
   "source": []
  },
  {
   "cell_type": "markdown",
   "metadata": {},
   "source": [
    "***\n",
    "### numpy.random.random_integers(low[, high, size])"
   ]
  },
  {
   "cell_type": "code",
   "execution_count": null,
   "metadata": {},
   "outputs": [],
   "source": []
  },
  {
   "cell_type": "markdown",
   "metadata": {},
   "source": [
    "***\n",
    "### numpy.random.random([size])"
   ]
  },
  {
   "cell_type": "code",
   "execution_count": null,
   "metadata": {},
   "outputs": [],
   "source": []
  },
  {
   "cell_type": "markdown",
   "metadata": {},
   "source": [
    "***\n",
    "### numpy.random.choice(a[, size, replace, p])"
   ]
  },
  {
   "cell_type": "code",
   "execution_count": null,
   "metadata": {},
   "outputs": [],
   "source": []
  },
  {
   "cell_type": "markdown",
   "metadata": {},
   "source": [
    "***\n",
    "### numpy.random.ranf([size])"
   ]
  },
  {
   "cell_type": "code",
   "execution_count": null,
   "metadata": {},
   "outputs": [],
   "source": []
  },
  {
   "cell_type": "markdown",
   "metadata": {},
   "source": [
    "***\n",
    "### numpy.random.shuffle(x)"
   ]
  },
  {
   "cell_type": "code",
   "execution_count": null,
   "metadata": {},
   "outputs": [],
   "source": []
  },
  {
   "cell_type": "markdown",
   "metadata": {},
   "source": [
    "***\n",
    "### numpy.random.exponential([scale, size])"
   ]
  },
  {
   "cell_type": "code",
   "execution_count": null,
   "metadata": {},
   "outputs": [],
   "source": []
  },
  {
   "cell_type": "markdown",
   "metadata": {},
   "source": [
    "***\n",
    "### numpy.random.normal([loc, scale, size])"
   ]
  },
  {
   "cell_type": "code",
   "execution_count": null,
   "metadata": {},
   "outputs": [],
   "source": []
  },
  {
   "cell_type": "markdown",
   "metadata": {},
   "source": [
    "***\n",
    "### numpy.random.geometric(p[, size])"
   ]
  },
  {
   "cell_type": "code",
   "execution_count": null,
   "metadata": {},
   "outputs": [],
   "source": []
  },
  {
   "cell_type": "markdown",
   "metadata": {},
   "source": [
    "***\n",
    "### numpy.random.uniform([low, high, size])"
   ]
  },
  {
   "cell_type": "code",
   "execution_count": null,
   "metadata": {},
   "outputs": [],
   "source": []
  },
  {
   "cell_type": "markdown",
   "metadata": {},
   "source": [
    "***\n",
    "### numpy.random.seed([seed])"
   ]
  },
  {
   "cell_type": "code",
   "execution_count": null,
   "metadata": {},
   "outputs": [],
   "source": []
  },
  {
   "cell_type": "markdown",
   "metadata": {},
   "source": [
    "***\n",
    "###### References: \n",
    "- __[Random sampling (numpy.random)](https://docs.scipy.org/doc/numpy-1.15.1/reference/routines.random.html )__\n",
    "- __[What is NumPy?](https://docs.scipy.org/doc/numpy-1.13.0/user/whatisnumpy.html )__\n"
   ]
  }
 ],
 "metadata": {
  "kernelspec": {
   "display_name": "Python 3",
   "language": "python",
   "name": "python3"
  },
  "language_info": {
   "codemirror_mode": {
    "name": "ipython",
    "version": 3
   },
   "file_extension": ".py",
   "mimetype": "text/x-python",
   "name": "python",
   "nbconvert_exporter": "python",
   "pygments_lexer": "ipython3",
   "version": "3.6.5"
  }
 },
 "nbformat": 4,
 "nbformat_minor": 2
}
