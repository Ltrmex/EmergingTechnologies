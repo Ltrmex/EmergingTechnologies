{
 "cells": [
  {
   "cell_type": "markdown",
   "metadata": {},
   "source": [
    "### Numpy Random Notebook\n",
    "- A jupyter notebook explaining the concepts behind and the use of the numpy package, including plots of the various distributions.\n",
    "- Numpy.random package is a sub package of the numpy package in Python and is responsible for generating random numbers in lot's of different ways.\n",
    "\n",
    "#### What is NumPy?\n",
    "- NumPy is the fundamental package for scientific computing in Python. It is a Python library that provides a multidimensional array object, various derived objects (such as masked arrays and matrices), and an assortment of routines for fast operations on arrays, including mathematical, logical, shape manipulation, sorting, selecting, I/O, discrete Fourier transforms, basic linear algebra, basic statistical operations, random simulation and much more.\n",
    "    \n",
    "#### Numpy Random package can be categorised into:\n",
    "- __Simple random data__, which includes functions for everyday use, such as __*rand(d0, d1, …, dn)*__ to generate random values in a given shape.\n",
    "- __Permutations__, which includes function such as __*shuffle(x)*__ to modify a sequence in-place by shuffling its contents.\n",
    "- __Distributions__, which are realated to different probability distributions, example of a function would be __*exponential([scale, size])*__ which would draw samples from an exponential distribution.\n",
    "- __Random generator__ which includes function such as __*seed([seed])*__ to seed the generator.\n",
    "***"
   ]
  },
  {
   "cell_type": "code",
   "execution_count": 3,
   "metadata": {},
   "outputs": [],
   "source": [
    "# Import numpy package as np to allow access to numpy.random package\n",
    "import numpy as np"
   ]
  },
  {
   "cell_type": "markdown",
   "metadata": {},
   "source": [
    "#### Functions to be investigated:\n",
    "- Simple random data\n",
    "    - [rand(d0, d1, …, dn)](#rand)\n",
    "    - [randint(low, high=None, size=None, dtype='l')](#randint)\n",
    "    - [random([size])](#random)\n",
    "    - [choice(a[, size, replace, p])](#choice)\n",
    "    - [ranf([size])](#ranf)\n",
    "- Permutations\n",
    "    - [shuffle(x)](#shuffle)\n",
    "- Distributions\n",
    "    - [exponential([scale, size])](#exponential)\n",
    "    - [normal([loc, scale, size])](#normal)\n",
    "    - [geometric(p[, size])](#geometric)\n",
    "    - [uniform([low, high, size])](#uniform)\n",
    "- Random generator\n",
    "    - [seed([seed])](#seed)"
   ]
  },
  {
   "cell_type": "markdown",
   "metadata": {},
   "source": [
    "***\n",
    "<a id=\"rand\"></a>\n",
    "### numpy.random.rand\n",
    "- Random values in a given shape.\n",
    "- Create an array of the given shape and populate it with random samples from a uniform distribution over [0,1].\n",
    "\n",
    "- **Parameters:** \n",
    "    - d0, d1, …, dn : int, optional\n",
    "        - The dimensions of the returned array, should all be positive. If no argument is given a single Python float is returned.\n",
    "- **Returns:** \n",
    "    - out : ndarray, shape (d0, d1, ..., dn)\n",
    "        - Random values."
   ]
  },
  {
   "cell_type": "code",
   "execution_count": 3,
   "metadata": {},
   "outputs": [
    {
     "name": "stdout",
     "output_type": "stream",
     "text": [
      "No arguments: \n"
     ]
    },
    {
     "data": {
      "text/plain": [
       "0.512369431707584"
      ]
     },
     "execution_count": 3,
     "metadata": {},
     "output_type": "execute_result"
    }
   ],
   "source": [
    "# Without arguments function will return random single float number (between 0 and 1)\n",
    "print(\"No arguments: \")\n",
    "np.random.rand()"
   ]
  },
  {
   "cell_type": "code",
   "execution_count": 4,
   "metadata": {},
   "outputs": [
    {
     "name": "stdout",
     "output_type": "stream",
     "text": [
      "With one argument '3': \n"
     ]
    },
    {
     "data": {
      "text/plain": [
       "array([0.33520619, 0.11379763, 0.26578563])"
      ]
     },
     "execution_count": 4,
     "metadata": {},
     "output_type": "execute_result"
    }
   ],
   "source": [
    "# With one argument it will return number of random float numbers (between 0 and 1) specified\n",
    "print(\"With one argument '3': \")\n",
    "np.random.rand(3)"
   ]
  },
  {
   "cell_type": "code",
   "execution_count": 5,
   "metadata": {},
   "outputs": [
    {
     "name": "stdout",
     "output_type": "stream",
     "text": [
      "With two arguments '2,2': \n"
     ]
    },
    {
     "data": {
      "text/plain": [
       "array([[0.34657645, 0.31268575],\n",
       "       [0.3062256 , 0.5763477 ]])"
      ]
     },
     "execution_count": 5,
     "metadata": {},
     "output_type": "execute_result"
    }
   ],
   "source": [
    "# With two arguments it will return matrices specified of random float numbers (between 0 and 1)\n",
    "print(\"With two arguments '2,2': \")\n",
    "np.random.rand(2,2)"
   ]
  },
  {
   "cell_type": "code",
   "execution_count": 6,
   "metadata": {},
   "outputs": [
    {
     "name": "stdout",
     "output_type": "stream",
     "text": [
      "With three arguments '2,2,2': \n"
     ]
    },
    {
     "data": {
      "text/plain": [
       "array([[[0.05749783, 0.27590938],\n",
       "        [0.20504952, 0.12041652]],\n",
       "\n",
       "       [[0.164755  , 0.78019212],\n",
       "        [0.00309697, 0.20681874]]])"
      ]
     },
     "execution_count": 6,
     "metadata": {},
     "output_type": "execute_result"
    }
   ],
   "source": [
    "# With three arguments it will return matrices specified of random float numbers (between 0 and 1)\n",
    "# By continuing to add more arguments, it will simply add more dimensions to the matrices\n",
    "print(\"With three arguments '2,2,2': \")\n",
    "np.random.rand(2,2,2)"
   ]
  },
  {
   "cell_type": "markdown",
   "metadata": {},
   "source": [
    "***\n",
    "<a id=\"randint\"></a>\n",
    "### numpy.random.randint\n",
    "- Return random integers from low (inclusive) to high (exclusive).\n",
    "- Return random integers from the “discrete uniform” distribution of the specified dtype in the “half-open” interval [low, high). If high is None (the default), then results are from [0, low).\n",
    "\n",
    "- **Parameters:**\n",
    "    - low : int\n",
    "        - Lowest (signed) integer to be drawn from the distribution (unless high=None, in which case this parameter is one above the highest such integer).\n",
    "    - high : int, optional\n",
    "        - If provided, one above the largest (signed) integer to be drawn from the distribution (see above for behavior if high=None).\n",
    "    - size : int or tuple of ints, optional\n",
    "        - Output shape. If the given shape is, e.g., (m, n, k), then m * n * k samples are drawn. Default is None, in which case a single value is returned.\n",
    "    - dtype : dtype, optional\n",
    "        - Desired dtype of the result. All dtypes are determined by their name, i.e., ‘int64’, ‘int’, etc, so byteorder is not available and a specific precision may have different C types depending on the platform. The default value is ‘np.int’.\n",
    "        - New in version 1.11.0.\n",
    "\n",
    "- **Returns:**\n",
    "    - out : int or ndarray of ints\n",
    "        - size-shaped array of random integers from the appropriate distribution, or a single such random int if size not provided."
   ]
  },
  {
   "cell_type": "code",
   "execution_count": 52,
   "metadata": {},
   "outputs": [
    {
     "name": "stdout",
     "output_type": "stream",
     "text": [
      "One argument '5' generates random int from 0 to 4: \n"
     ]
    },
    {
     "data": {
      "text/plain": [
       "3"
      ]
     },
     "execution_count": 52,
     "metadata": {},
     "output_type": "execute_result"
    }
   ],
   "source": [
    "# Must take at least one argument\n",
    "# With one argument it generates random int up to 4, inclusive\n",
    "print(\"One argument '5' generates random int from 0 to 4: \")\n",
    "np.random.randint(5)"
   ]
  },
  {
   "cell_type": "code",
   "execution_count": 53,
   "metadata": {},
   "outputs": [
    {
     "name": "stdout",
     "output_type": "stream",
     "text": [
      "Arguments '5' & '10' generates random int between 5 and 9, inclusive: \n"
     ]
    },
    {
     "data": {
      "text/plain": [
       "6"
      ]
     },
     "execution_count": 53,
     "metadata": {},
     "output_type": "execute_result"
    }
   ],
   "source": [
    "# With two arguments it generates random int between 5 and 14, inclusive\n",
    "print(\"Arguments '5' & '10' generates random int between 5 and 9, inclusive: \")\n",
    "np.random.randint(5, 10)"
   ]
  },
  {
   "cell_type": "code",
   "execution_count": 54,
   "metadata": {},
   "outputs": [
    {
     "name": "stdout",
     "output_type": "stream",
     "text": [
      "Arguments '5, 10, 5' generates five random ints between 5 and 9, inclusive:: \n"
     ]
    },
    {
     "data": {
      "text/plain": [
       "array([8, 7, 5, 6, 5])"
      ]
     },
     "execution_count": 54,
     "metadata": {},
     "output_type": "execute_result"
    }
   ],
   "source": [
    "# With three arguments it generates random ints between 5 and 9, inclusive\n",
    "# where third number determines size of randomly generated ints\n",
    "print(\"Arguments '5, 10, 5' generates five random ints between 5 and 9, inclusive:: \")\n",
    "np.random.randint(5, 10, 5)"
   ]
  },
  {
   "cell_type": "code",
   "execution_count": 56,
   "metadata": {},
   "outputs": [
    {
     "name": "stdout",
     "output_type": "stream",
     "text": [
      "Arguments '5, size=(2, 4)' a 2 x 4 array of ints between 5 and 14, inclusive: \n"
     ]
    },
    {
     "data": {
      "text/plain": [
       "array([[ 8, 12, 12,  9],\n",
       "       [ 5,  7, 14, 10]])"
      ]
     },
     "execution_count": 56,
     "metadata": {},
     "output_type": "execute_result"
    }
   ],
   "source": [
    "# Generate a 2 x 4 array of ints between 5 and 14, inclusive\n",
    "print(\"Arguments '5, size=(2, 4)' a 2 x 4 array of ints between 5 and 14, inclusive: \")\n",
    "np.random.randint(5, 15, size=(2, 4))"
   ]
  },
  {
   "cell_type": "markdown",
   "metadata": {},
   "source": [
    "***\n",
    "<a id=\"random\"></a>\n",
    "### numpy.random.random\n",
    "- Return random floats in the half-open interval [0.0, 1.0).\n",
    "- Results are from the “continuous uniform” distribution over the stated interval. To sample Unif[a, b), b > a multiply the output of random_sample by (b-a) and add a:\n",
    "    - (b - a) * random_sample() + a\n",
    "    \n",
    "- **Parameters:**\t\n",
    "    - size : int or tuple of ints, optional\n",
    "        - Output shape. If the given shape is, e.g., (m, n, k), then m * n * k samples are drawn. Default is None, in which case a single value is returned.\n",
    "- **Returns:**\t\n",
    "    - out : float or ndarray of floats\n",
    "        - Array of random floats of shape size (unless size=None, in which case a single float is returned).\n"
   ]
  },
  {
   "cell_type": "code",
   "execution_count": 13,
   "metadata": {},
   "outputs": [
    {
     "name": "stdout",
     "output_type": "stream",
     "text": [
      "No arguments: \n"
     ]
    },
    {
     "data": {
      "text/plain": [
       "0.16163858365177586"
      ]
     },
     "execution_count": 13,
     "metadata": {},
     "output_type": "execute_result"
    }
   ],
   "source": [
    "# No arguments generates single float number\n",
    "print(\"No arguments: \")\n",
    "np.random.random()"
   ]
  },
  {
   "cell_type": "code",
   "execution_count": 17,
   "metadata": {},
   "outputs": [
    {
     "name": "stdout",
     "output_type": "stream",
     "text": [
      "One argument '6': \n"
     ]
    },
    {
     "data": {
      "text/plain": [
       "array([0.74226268, 0.98810967, 0.14400536, 0.78517839, 0.38126145])"
      ]
     },
     "execution_count": 17,
     "metadata": {},
     "output_type": "execute_result"
    }
   ],
   "source": [
    "# One arguments generates given amount of float numbers\n",
    "print(\"One argument '6': \")\n",
    "np.random.random(5)"
   ]
  },
  {
   "cell_type": "code",
   "execution_count": 18,
   "metadata": {},
   "outputs": [
    {
     "name": "stdout",
     "output_type": "stream",
     "text": [
      "Return type: \n"
     ]
    },
    {
     "data": {
      "text/plain": [
       "float"
      ]
     },
     "execution_count": 18,
     "metadata": {},
     "output_type": "execute_result"
    }
   ],
   "source": [
    "# Returning type\n",
    "print(\"Return type: \")\n",
    "type(np.random.random_sample())"
   ]
  },
  {
   "cell_type": "code",
   "execution_count": 19,
   "metadata": {},
   "outputs": [
    {
     "name": "stdout",
     "output_type": "stream",
     "text": [
      "Three-by-two array of random numbers from [-5, 0): \n"
     ]
    },
    {
     "data": {
      "text/plain": [
       "array([[-0.99836355, -4.95867256],\n",
       "       [-1.96985157, -4.31134494],\n",
       "       [-3.93559693, -1.16144677]])"
      ]
     },
     "execution_count": 19,
     "metadata": {},
     "output_type": "execute_result"
    }
   ],
   "source": [
    "# Three-by-two array of random numbers from [-5, 0):\n",
    "print(\"Three-by-two array of random numbers from [-5, 0): \")\n",
    "5 * np.random.random_sample((3, 2)) - 5"
   ]
  },
  {
   "cell_type": "markdown",
   "metadata": {},
   "source": [
    "***\n",
    "<a id=\"choice\"></a>\n",
    "### numpy.random.choice\n",
    "- Generates a random sample from a given 1-D array\n",
    "- New in version 1.7.0.\n",
    "\n",
    "- **Parameters:**\t\n",
    "    - a : 1-D array-like or int\n",
    "        - If an ndarray, a random sample is generated from its elements. If an int, the random sample is generated as if a were np.arange(a)\n",
    "    - size : int or tuple of ints, optional\n",
    "        - Output shape. If the given shape is, e.g., (m, n, k), then m * n * k samples are drawn. Default is None, in which case a single value is returned.\n",
    "    - replace : boolean, optional\n",
    "        - Whether the sample is with or without replacement\n",
    "    - p : 1-D array-like, optional\n",
    "        - The probabilities associated with each entry in a. If not given the sample assumes a uniform distribution over all entries in a.\n",
    "- **Returns:**\t\n",
    "    - samples : single item or ndarray\n",
    "        - The generated random samples\n",
    "- **Raises:**\n",
    "    - ValueError\n",
    "        - If a is an int and less than zero, if a or p are not 1-dimensional, if a is an array-like of size 0, if p is not a vector of probabilities, if a and p have different lengths, or if replace=False and the sample size is greater than the population size"
   ]
  },
  {
   "cell_type": "code",
   "execution_count": 6,
   "metadata": {},
   "outputs": [
    {
     "data": {
      "text/plain": [
       "array([3, 4, 1])"
      ]
     },
     "execution_count": 6,
     "metadata": {},
     "output_type": "execute_result"
    }
   ],
   "source": [
    "# Generate a uniform random sample from np.arange(5) of size 3:\n",
    "np.random.choice(5, 3) # This is equivalent to np.random.randint(0,5,3)"
   ]
  },
  {
   "cell_type": "code",
   "execution_count": 10,
   "metadata": {},
   "outputs": [
    {
     "data": {
      "text/plain": [
       "array([2, 3, 2], dtype=int64)"
      ]
     },
     "execution_count": 10,
     "metadata": {},
     "output_type": "execute_result"
    }
   ],
   "source": [
    "# Generate a non-uniform random sample from np.arange(5) of size 3:\n",
    "np.random.choice(5, 3, p=[0.1, 0, 0.3, 0.6, 0])"
   ]
  },
  {
   "cell_type": "code",
   "execution_count": 11,
   "metadata": {},
   "outputs": [
    {
     "data": {
      "text/plain": [
       "array([4, 1, 2])"
      ]
     },
     "execution_count": 11,
     "metadata": {},
     "output_type": "execute_result"
    }
   ],
   "source": [
    "# Generate a uniform random sample from np.arange(5) of size 3 without replacement:\n",
    "np.random.choice(5, 3, replace=False) # This is equivalent to np.random.permutation(np.arange(5))[:3]"
   ]
  },
  {
   "cell_type": "code",
   "execution_count": 12,
   "metadata": {},
   "outputs": [
    {
     "data": {
      "text/plain": [
       "array([2, 3, 0])"
      ]
     },
     "execution_count": 12,
     "metadata": {},
     "output_type": "execute_result"
    }
   ],
   "source": [
    "# Generate a non-uniform random sample from np.arange(5) of size 3 without replacement:\n",
    "np.random.choice(5, 3, replace=False, p=[0.1, 0, 0.3, 0.6, 0])"
   ]
  },
  {
   "cell_type": "code",
   "execution_count": null,
   "metadata": {},
   "outputs": [],
   "source": [
    "# Any of the above can be repeated with an arbitrary array-like instead of just integers. For instance:\n",
    "aa_milne_arr = ['Apple', 'Banana', 'Orange', 'Peach']\n",
    "np.random.choice(aa_milne_arr, 5, p=[0.5, 0.1, 0.1, 0.3])"
   ]
  },
  {
   "cell_type": "markdown",
   "metadata": {},
   "source": [
    "***\n",
    "<a id=\"ranf\"></a>\n",
    "### numpy.random.ranf"
   ]
  },
  {
   "cell_type": "code",
   "execution_count": null,
   "metadata": {},
   "outputs": [],
   "source": []
  },
  {
   "cell_type": "markdown",
   "metadata": {},
   "source": [
    "***\n",
    "<a id=\"shuffle\"></a>\n",
    "### numpy.random.shuffle"
   ]
  },
  {
   "cell_type": "code",
   "execution_count": null,
   "metadata": {},
   "outputs": [],
   "source": []
  },
  {
   "cell_type": "markdown",
   "metadata": {},
   "source": [
    "***\n",
    "<a id=\"exponential\"></a>\n",
    "### numpy.random.exponential"
   ]
  },
  {
   "cell_type": "code",
   "execution_count": null,
   "metadata": {},
   "outputs": [],
   "source": []
  },
  {
   "cell_type": "markdown",
   "metadata": {},
   "source": [
    "***\n",
    "<a id=\"normal\"></a>\n",
    "### numpy.random.normal"
   ]
  },
  {
   "cell_type": "code",
   "execution_count": null,
   "metadata": {},
   "outputs": [],
   "source": []
  },
  {
   "cell_type": "markdown",
   "metadata": {},
   "source": [
    "***\n",
    "<a id=\"geometric\"></a>\n",
    "### numpy.random.geometric"
   ]
  },
  {
   "cell_type": "code",
   "execution_count": null,
   "metadata": {},
   "outputs": [],
   "source": []
  },
  {
   "cell_type": "markdown",
   "metadata": {},
   "source": [
    "***\n",
    "<a id=\"uniform\"></a>\n",
    "### numpy.random.uniform"
   ]
  },
  {
   "cell_type": "code",
   "execution_count": null,
   "metadata": {},
   "outputs": [],
   "source": []
  },
  {
   "cell_type": "markdown",
   "metadata": {},
   "source": [
    "***\n",
    "<a id=\"seed\"></a>\n",
    "### numpy.random.seed"
   ]
  },
  {
   "cell_type": "code",
   "execution_count": null,
   "metadata": {},
   "outputs": [],
   "source": []
  },
  {
   "cell_type": "markdown",
   "metadata": {},
   "source": [
    "***\n",
    "###### References: \n",
    "- __[Random sampling (numpy.random)](https://docs.scipy.org/doc/numpy-1.15.1/reference/routines.random.html )__\n",
    "- __[What is NumPy?](https://docs.scipy.org/doc/numpy-1.13.0/user/whatisnumpy.html )__\n",
    "- __[numpy.random.rand](https://docs.scipy.org/doc/numpy-1.15.1/reference/generated/numpy.random.rand.html#numpy.random.rand )__\n",
    "- __[numpy.random.randint](https://docs.scipy.org/doc/numpy-1.15.1/reference/generated/numpy.random.randint.html)__\n",
    "- __[numpy.random.random](https://docs.scipy.org/doc/numpy-1.15.1/reference/generated/numpy.random.random.html#numpy.random.random)__\n",
    "- __[numpy.random.choice](https://docs.scipy.org/doc/numpy-1.15.1/reference/generated/numpy.random.choice.html#numpy.random.choice)__\n",
    "- __[numpy.random.ranf](https://docs.scipy.org/doc/numpy-1.15.1/reference/generated/numpy.random.ranf.html#numpy.random.ranf)__\n",
    "- __[numpy.random.shuffle](https://docs.scipy.org/doc/numpy-1.15.1/reference/generated/numpy.random.shuffle.html#numpy.random.shuffle)__\n",
    "- __[numpy.random.exponential](https://docs.scipy.org/doc/numpy-1.15.1/reference/generated/numpy.random.exponential.html#numpy.random.exponential)__\n",
    "- __[numpy.random.normal](https://docs.scipy.org/doc/numpy-1.15.1/reference/generated/numpy.random.normal.html#numpy.random.normal)__\n",
    "- __[numpy.random.geometric](https://docs.scipy.org/doc/numpy-1.15.1/reference/generated/numpy.random.geometric.html#numpy.random.geometric)__\n",
    "- __[numpy.random.uniform](https://docs.scipy.org/doc/numpy-1.15.1/reference/generated/numpy.random.uniform.html#numpy.random.uniform)__\n",
    "- __[numpy.random.seed](https://docs.scipy.org/doc/numpy-1.15.1/reference/generated/numpy.random.seed.html#numpy.random.seed)__"
   ]
  }
 ],
 "metadata": {
  "kernelspec": {
   "display_name": "Python 3",
   "language": "python",
   "name": "python3"
  },
  "language_info": {
   "codemirror_mode": {
    "name": "ipython",
    "version": 3
   },
   "file_extension": ".py",
   "mimetype": "text/x-python",
   "name": "python",
   "nbconvert_exporter": "python",
   "pygments_lexer": "ipython3",
   "version": "3.6.5"
  }
 },
 "nbformat": 4,
 "nbformat_minor": 2
}
